{
  "nbformat": 4,
  "nbformat_minor": 0,
  "metadata": {
    "colab": {
      "provenance": [],
      "authorship_tag": "ABX9TyM4g2kvqhbKRLkPLc+pxFGz",
      "include_colab_link": true
    },
    "kernelspec": {
      "name": "python3",
      "display_name": "Python 3"
    },
    "language_info": {
      "name": "python"
    }
  },
  "cells": [
    {
      "cell_type": "markdown",
      "metadata": {
        "id": "view-in-github",
        "colab_type": "text"
      },
      "source": [
        "<a href=\"https://colab.research.google.com/github/LuizWalker/PIM---Processamento-de-Imagens-Medicas/blob/main/Atividades_Parte_2/DICOM_Atividade_1.ipynb\" target=\"_parent\"><img src=\"https://colab.research.google.com/assets/colab-badge.svg\" alt=\"Open In Colab\"/></a>"
      ]
    },
    {
      "cell_type": "code",
      "execution_count": null,
      "metadata": {
        "id": "zqLRkKOafmcd"
      },
      "outputs": [],
      "source": [
        "#1 - Abrir as imagens DICOM:\n",
        "\n",
        "  #Ressonância\n",
        "  #Tomografia\n",
        "  #Radiografia\n",
        "\n",
        "#2 - Identificar a diferença entre cada uma delas (cores, formato, dimensão, quantidade de slice).\n",
        "\n",
        "#3 - Calcular o histograma das imagens e verificar os valores que cada uma tem\n",
        "\n",
        "#4 - Verificar se é possível gerar o plot 3d\n",
        "\n",
        "#5 - Como é possível fazer o janelamento das imagens"
      ]
    },
    {
      "cell_type": "code",
      "source": [
        "# Importanto as bibliotecas novas #\n",
        "\n",
        "!pip install pydicom\n",
        "import pydicom \n",
        "from pydicom.data import get_testdata_file\n",
        "\n",
        "\n",
        "# Bibliotecas já utilizada anteriormente #\n",
        "\n",
        "import cv2 #Biblioteca OpenCV, utilizada para o processamento digital de imagens\n",
        "from google.colab.patches import cv2_imshow # Função para o colab exibir imagens do OpenCV\n",
        "import numpy as np\n",
        "import matplotlib.pyplot as plt\n",
        "import copy\n",
        "from skimage.metrics import structural_similarity\n",
        "from PIL import Image\n",
        "from scipy import ndimage"
      ],
      "metadata": {
        "id": "aoGYIMrygEOY"
      },
      "execution_count": null,
      "outputs": []
    },
    {
      "cell_type": "code",
      "source": [
        "# Importanto as imagens do Github\n",
        "\n"
      ],
      "metadata": {
        "id": "elO2TFZDgPLY"
      },
      "execution_count": null,
      "outputs": []
    }
  ]
}